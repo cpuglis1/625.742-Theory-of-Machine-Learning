{
 "cells": [
  {
   "cell_type": "code",
   "execution_count": 1,
   "id": "20bb4292",
   "metadata": {},
   "outputs": [
    {
     "name": "stdout",
     "output_type": "stream",
     "text": [
      "importing pandas\n",
      "importing svm\n"
     ]
    }
   ],
   "source": [
    "print('importing pandas')\n",
    "import pandas as pd\n",
    "from sklearn.preprocessing import LabelEncoder\n",
    "from sklearn.feature_extraction.text import TfidfVectorizer\n",
    "print('importing svm')\n",
    "from sklearn import svm\n",
    "from sklearn.model_selection import train_test_split\n",
    "from sklearn.model_selection import KFold"
   ]
  },
  {
   "cell_type": "code",
   "execution_count": 2,
   "id": "df393eae",
   "metadata": {},
   "outputs": [
    {
     "name": "stdout",
     "output_type": "stream",
     "text": [
      "defining vectorizer\n"
     ]
    }
   ],
   "source": [
    "print('defining vectorizer')\n",
    "# Define the TF-IDF vectorizer with desired parameters\n",
    "tfidf_vectorizer = TfidfVectorizer(tokenizer=lambda x: [word_pos[0] for word_pos in eval(x)],lowercase=False,stop_words=None)\n",
    "\n",
    "def tfidf_vectorize(data, column):\n",
    "    # Fit and transform the specified column\n",
    "    tfidf_vectors = tfidf_vectorizer.fit_transform(data[column])\n",
    "\n",
    "    # Return the resulting sparse matrix\n",
    "    return tfidf_vectors"
   ]
  },
  {
   "cell_type": "code",
   "execution_count": 3,
   "id": "7c181175",
   "metadata": {},
   "outputs": [],
   "source": [
    "def train_model(X, y):\n",
    "    # Initialize a KFold object with 5 folds\n",
    "    kfold = KFold(n_splits=5, shuffle=True, random_state=42)\n",
    "\n",
    "    # Create lists to store the training history and trained models for each fold\n",
    "    models = []\n",
    "    \n",
    "    # Create lists to store validation accuracy\n",
    "    acc_avg_train = []\n",
    "    acc_avg_test = []\n",
    "    \n",
    "    # Iterate over the folds and train the model on each one\n",
    "    for fold, (train_indices, val_indices) in enumerate(kfold.split(X, y)):\n",
    "        # Split the data into training and validation sets for this fold\n",
    "        X_train, y_train = X[train_indices], y[train_indices]\n",
    "        X_val, y_val = X[val_indices], y[val_indices]\n",
    "\n",
    "        # Create a svm model\n",
    "        model = svm.LinearSVC()\n",
    "\n",
    "        # Train the model on the input data\n",
    "        model.fit(X_train, y_train)\n",
    "\n",
    "        # Add the trained model and training history to the lists\n",
    "        models.append(model)\n",
    "        \n",
    "        # Validate\n",
    "        accuracy_test = model.score(X_val, y_val)\n",
    "        acc_avg_test.append(accuracy_test)\n",
    "        accuracy_train = model.score(X_train, y_train)\n",
    "        acc_avg_train.append(accuracy_train)\n",
    "        \n",
    "\n",
    "    #print average accuracy\n",
    "    print('CV test accuracy:', sum(acc_avg_test)/len(acc_avg_test))\n",
    "    print('CV train accuracy:', sum(acc_avg_train)/len(acc_avg_train))\n",
    "    \n",
    "    # Return the list of trained models and training histories\n",
    "    return models"
   ]
  },
  {
   "cell_type": "code",
   "execution_count": 4,
   "id": "e0978278",
   "metadata": {},
   "outputs": [
    {
     "name": "stdout",
     "output_type": "stream",
     "text": [
      "importing data\n"
     ]
    }
   ],
   "source": [
    "print('importing data')\n",
    "df = pd.read_csv('/Users/christophershaffer/Documents/Hopkins/Theory of Machine Learning - EN.625.742/Project/News Category Dataset Cleaned 20230427.csv')"
   ]
  },
  {
   "cell_type": "code",
   "execution_count": 5,
   "id": "fba735f4",
   "metadata": {},
   "outputs": [
    {
     "name": "stdout",
     "output_type": "stream",
     "text": [
      "data imported\n",
      "vectorize sparce\n"
     ]
    },
    {
     "name": "stderr",
     "output_type": "stream",
     "text": [
      "/Users/christophershaffer/anaconda3/lib/python3.10/site-packages/sklearn/feature_extraction/text.py:528: UserWarning: The parameter 'token_pattern' will not be used since 'tokenizer' is not None'\n",
      "  warnings.warn(\n"
     ]
    }
   ],
   "source": [
    "categories = ['WELLNESS & HEALTH','ENTERTAINMENT','TRAVEL', 'STYLE & BEAUTY', 'PARENTING', 'QUEER VOICES', 'FOOD & DRINK']\n",
    "data = df[df['category'].isin(categories)]\n",
    "\n",
    "sampled_data = data.groupby('category', group_keys=False).apply(lambda x: x.sample(n=3000))\n",
    "print(\"data imported\")\n",
    "# Encode the target variable\n",
    "label_encoder = LabelEncoder()\n",
    "y = label_encoder.fit_transform(sampled_data['category'])\n",
    "print(\"vectorize sparce\")\n",
    "# Vectorize the text data using TF-IDF\n",
    "X_sparse = tfidf_vectorize(sampled_data, 'wordnet_pos_desc')"
   ]
  },
  {
   "cell_type": "code",
   "execution_count": 6,
   "id": "674f2442",
   "metadata": {},
   "outputs": [
    {
     "data": {
      "text/plain": [
       "<21000x31139 sparse matrix of type '<class 'numpy.float64'>'\n",
       "\twith 248916 stored elements in Compressed Sparse Row format>"
      ]
     },
     "execution_count": 6,
     "metadata": {},
     "output_type": "execute_result"
    }
   ],
   "source": [
    "X_sparse"
   ]
  },
  {
   "cell_type": "code",
   "execution_count": 7,
   "id": "ccb2cfa4",
   "metadata": {},
   "outputs": [
    {
     "name": "stdout",
     "output_type": "stream",
     "text": [
      "data to array\n"
     ]
    }
   ],
   "source": [
    "print(\"data to array\")\n",
    "# Convert the sparse matrices to dense arrays\n",
    "X = X_sparse.toarray()"
   ]
  },
  {
   "cell_type": "code",
   "execution_count": 8,
   "id": "4a930e37",
   "metadata": {},
   "outputs": [
    {
     "name": "stdout",
     "output_type": "stream",
     "text": [
      "train model\n",
      "CV test accuracy: 0.6288571428571428\n",
      "CV train accuracy: 0.9431309523809525\n"
     ]
    }
   ],
   "source": [
    "print(\"train model\")\n",
    "# Train the support vector machine on the training data\n",
    "models = train_model(X, y)"
   ]
  },
  {
   "cell_type": "code",
   "execution_count": null,
   "id": "82dfdd06",
   "metadata": {},
   "outputs": [],
   "source": []
  }
 ],
 "metadata": {
  "kernelspec": {
   "display_name": "Python 3 (ipykernel)",
   "language": "python",
   "name": "python3"
  },
  "language_info": {
   "codemirror_mode": {
    "name": "ipython",
    "version": 3
   },
   "file_extension": ".py",
   "mimetype": "text/x-python",
   "name": "python",
   "nbconvert_exporter": "python",
   "pygments_lexer": "ipython3",
   "version": "3.10.9"
  }
 },
 "nbformat": 4,
 "nbformat_minor": 5
}
