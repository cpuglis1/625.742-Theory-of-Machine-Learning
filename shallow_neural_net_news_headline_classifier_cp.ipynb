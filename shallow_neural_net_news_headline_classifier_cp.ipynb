{
 "cells": [
  {
   "cell_type": "code",
   "execution_count": 1,
   "metadata": {},
   "outputs": [
    {
     "name": "stderr",
     "output_type": "stream",
     "text": [
      "C:\\Users\\cep4u\\AppData\\Local\\Continuum\\anaconda3\\lib\\site-packages\\numpy\\_distributor_init.py:32: UserWarning: loaded more than 1 DLL from .libs:\n",
      "C:\\Users\\cep4u\\AppData\\Local\\Continuum\\anaconda3\\lib\\site-packages\\numpy\\.libs\\libopenblas.PYQHXLVVQ7VESDPUVUADXEVJOBGHJPAY.gfortran-win_amd64.dll\n",
      "C:\\Users\\cep4u\\AppData\\Local\\Continuum\\anaconda3\\lib\\site-packages\\numpy\\.libs\\libopenblas.XWYDX2IKJW2NMTWSFYNGFUWKQU3LYTCZ.gfortran-win_amd64.dll\n",
      "  stacklevel=1)\n"
     ]
    }
   ],
   "source": [
    "import pandas as pd\n",
    "import matplotlib.pyplot as plt\n",
    "from sklearn.preprocessing import LabelEncoder\n",
    "from sklearn.feature_extraction.text import TfidfVectorizer\n",
    "import tensorflow as tf\n",
    "from tensorflow import keras\n",
    "from sklearn.model_selection import train_test_split\n",
    "import matplotlib.pyplot as plt\n",
    "from sklearn.model_selection import KFold"
   ]
  },
  {
   "cell_type": "code",
   "execution_count": 2,
   "metadata": {},
   "outputs": [],
   "source": [
    "# Define the TF-IDF vectorizer with desired parameters\n",
    "tfidf_vectorizer = TfidfVectorizer(tokenizer=lambda x: [word_pos[0] for word_pos in eval(x)],\n",
    "                                   lowercase=False,\n",
    "                                   stop_words=None)\n",
    "\n",
    "def tfidf_vectorize(data, column):\n",
    "    # Fit and transform the specified column\n",
    "    tfidf_vectors = tfidf_vectorizer.fit_transform(data[column])\n",
    "\n",
    "    # Return the resulting sparse matrix\n",
    "    return tfidf_vectors"
   ]
  },
  {
   "cell_type": "code",
   "execution_count": 3,
   "metadata": {},
   "outputs": [],
   "source": [
    "def train_model(X, y, num_classes):\n",
    "    # Initialize a KFold object with 5 folds\n",
    "    kfold = KFold(n_splits=5, shuffle=True, random_state=42)\n",
    "\n",
    "    # Create lists to store the training history and trained models for each fold\n",
    "    histories = []\n",
    "    models = []\n",
    "\n",
    "    # Iterate over the folds and train the model on each one\n",
    "    for fold, (train_indices, val_indices) in enumerate(kfold.split(X, y)):\n",
    "        # Split the data into training and validation sets for this fold\n",
    "        X_train, y_train = X[train_indices], y[train_indices]\n",
    "        X_val, y_val = X[val_indices], y[val_indices]\n",
    "\n",
    "        # Create a sequential model with a single dense output layer\n",
    "        model = keras.Sequential([\n",
    "            keras.layers.Dense(units=num_classes, activation='softmax', input_shape=(X.shape[1],))\n",
    "        ])\n",
    "\n",
    "        # Compile the model with categorical crossentropy loss and adam optimizer\n",
    "        model.compile(loss='categorical_crossentropy', optimizer='adam', metrics=['accuracy'])\n",
    "\n",
    "        # Train the model on the input data\n",
    "        history = model.fit(X_train, y_train, validation_data=(X_val, y_val), epochs=10, batch_size=32)\n",
    "\n",
    "        # Add the trained model and training history to the lists\n",
    "        models.append(model)\n",
    "        histories.append(history)\n",
    "\n",
    "    # Return the list of trained models and training histories\n",
    "    return models, histories"
   ]
  },
  {
   "cell_type": "code",
   "execution_count": 4,
   "metadata": {},
   "outputs": [],
   "source": [
    "df = pd.read_csv(\"C:\\\\Users\\\\cep4u\\\\JHU Classes\\\\Classes\\\\Spring 2023\\\\Theory of Machine Learning\\\\Group Project\\\\625.742-Theory-of-Machine-Learning\\\\News Category Dataset Cleaned 20230416.csv\")"
   ]
  },
  {
   "cell_type": "code",
   "execution_count": 6,
   "metadata": {},
   "outputs": [],
   "source": [
    "categories = ['WELLNESS & HEALTH','ENTERTAINMENT','TRAVEL', 'STYLE & BEAUTY', 'PARENTING', 'QUEER VOICES', 'FOOD & DRINK']\n",
    "data = df[df['category'].isin(categories)]\n",
    "\n",
    "sampled_data = data.groupby('category', group_keys=False).apply(lambda x: x.sample(n=3000))\n",
    "\n",
    "# Encode the target variable\n",
    "label_encoder = LabelEncoder()\n",
    "y = label_encoder.fit_transform(sampled_data['category'])\n",
    "\n",
    "# Vectorize the text data using TF-IDF\n",
    "X_sparse = tfidf_vectorize(sampled_data, 'wordnet_pos_hdl')"
   ]
  },
  {
   "cell_type": "code",
   "execution_count": 8,
   "metadata": {},
   "outputs": [],
   "source": [
    "# Withold validation set.\n",
    "X_train_sparse, X_val_sparse, y_train, y_val = train_test_split(X_sparse, y, test_size=0.2, random_state=12)\n",
    "\n",
    "# Convert the sparse matrices to dense arrays\n",
    "X = X_train_sparse.toarray()\n",
    "\n",
    "# Convert the target variable to a one-hot encoded matrix\n",
    "num_classes = len(label_encoder.classes_)\n",
    "y_onehot = keras.utils.to_categorical(y_train, num_classes)"
   ]
  },
  {
   "cell_type": "code",
   "execution_count": 9,
   "metadata": {},
   "outputs": [
    {
     "name": "stdout",
     "output_type": "stream",
     "text": [
      "Train on 13440 samples, validate on 3360 samples\n",
      "Epoch 1/10\n",
      "13440/13440 [==============================] - 3s 240us/sample - loss: 1.8962 - accuracy: 0.5737 - val_loss: 1.8473 - val_accuracy: 0.7125\n",
      "Epoch 2/10\n",
      "13440/13440 [==============================] - 3s 197us/sample - loss: 1.7662 - accuracy: 0.8522 - val_loss: 1.7536 - val_accuracy: 0.7396\n",
      "Epoch 3/10\n",
      "13440/13440 [==============================] - 3s 196us/sample - loss: 1.6424 - accuracy: 0.8847 - val_loss: 1.6672 - val_accuracy: 0.7479\n",
      "Epoch 4/10\n",
      "13440/13440 [==============================] - 3s 190us/sample - loss: 1.5272 - accuracy: 0.8967 - val_loss: 1.5877 - val_accuracy: 0.7497\n",
      "Epoch 5/10\n",
      "13440/13440 [==============================] - 3s 192us/sample - loss: 1.4210 - accuracy: 0.9032 - val_loss: 1.5150 - val_accuracy: 0.7521\n",
      "Epoch 6/10\n",
      "13440/13440 [==============================] - 3s 213us/sample - loss: 1.3236 - accuracy: 0.9085 - val_loss: 1.4490 - val_accuracy: 0.7506\n",
      "Epoch 7/10\n",
      "13440/13440 [==============================] - 3s 189us/sample - loss: 1.2345 - accuracy: 0.9119 - val_loss: 1.3888 - val_accuracy: 0.7500\n",
      "Epoch 8/10\n",
      "13440/13440 [==============================] - 3s 196us/sample - loss: 1.1531 - accuracy: 0.9147 - val_loss: 1.3345 - val_accuracy: 0.7515\n",
      "Epoch 9/10\n",
      "13440/13440 [==============================] - 3s 215us/sample - loss: 1.0790 - accuracy: 0.9170 - val_loss: 1.2850 - val_accuracy: 0.7509\n",
      "Epoch 10/10\n",
      "13440/13440 [==============================] - 3s 218us/sample - loss: 1.0112 - accuracy: 0.9186 - val_loss: 1.2401 - val_accuracy: 0.7527\n",
      "Train on 13440 samples, validate on 3360 samples\n",
      "Epoch 1/10\n",
      "13440/13440 [==============================] - 3s 221us/sample - loss: 1.8965 - accuracy: 0.5869 - val_loss: 1.8454 - val_accuracy: 0.7092\n",
      "Epoch 2/10\n",
      "13440/13440 [==============================] - 2s 182us/sample - loss: 1.7666 - accuracy: 0.8502 - val_loss: 1.7506 - val_accuracy: 0.7292\n",
      "Epoch 3/10\n",
      "13440/13440 [==============================] - 2s 182us/sample - loss: 1.6431 - accuracy: 0.8850 - val_loss: 1.6631 - val_accuracy: 0.7351\n",
      "Epoch 4/10\n",
      "13440/13440 [==============================] - 2s 179us/sample - loss: 1.5282 - accuracy: 0.8948 - val_loss: 1.5824 - val_accuracy: 0.7429\n",
      "Epoch 5/10\n",
      "13440/13440 [==============================] - 2s 181us/sample - loss: 1.4222 - accuracy: 0.9021 - val_loss: 1.5086 - val_accuracy: 0.7446\n",
      "Epoch 6/10\n",
      "13440/13440 [==============================] - 2s 182us/sample - loss: 1.3249 - accuracy: 0.9072 - val_loss: 1.4416 - val_accuracy: 0.7485\n",
      "Epoch 7/10\n",
      "13440/13440 [==============================] - 2s 181us/sample - loss: 1.2359 - accuracy: 0.9113 - val_loss: 1.3804 - val_accuracy: 0.7506\n",
      "Epoch 8/10\n",
      "13440/13440 [==============================] - 3s 187us/sample - loss: 1.1546 - accuracy: 0.9146 - val_loss: 1.3251 - val_accuracy: 0.7527\n",
      "Epoch 9/10\n",
      "13440/13440 [==============================] - 2s 180us/sample - loss: 1.0804 - accuracy: 0.9171 - val_loss: 1.2749 - val_accuracy: 0.7536\n",
      "Epoch 10/10\n",
      "13440/13440 [==============================] - 2s 177us/sample - loss: 1.0127 - accuracy: 0.9202 - val_loss: 1.2291 - val_accuracy: 0.7542\n",
      "Train on 13440 samples, validate on 3360 samples\n",
      "Epoch 1/10\n",
      "13440/13440 [==============================] - 3s 255us/sample - loss: 1.8972 - accuracy: 0.5897 - val_loss: 1.8449 - val_accuracy: 0.7250\n",
      "Epoch 2/10\n",
      "13440/13440 [==============================] - 3s 205us/sample - loss: 1.7680 - accuracy: 0.8518 - val_loss: 1.7490 - val_accuracy: 0.7539\n",
      "Epoch 3/10\n",
      "13440/13440 [==============================] - 3s 192us/sample - loss: 1.6449 - accuracy: 0.8830 - val_loss: 1.6605 - val_accuracy: 0.7580\n",
      "Epoch 4/10\n",
      "13440/13440 [==============================] - 2s 180us/sample - loss: 1.5302 - accuracy: 0.8950 - val_loss: 1.5793 - val_accuracy: 0.7589\n",
      "Epoch 5/10\n",
      "13440/13440 [==============================] - 2s 179us/sample - loss: 1.4243 - accuracy: 0.9019 - val_loss: 1.5051 - val_accuracy: 0.7613\n",
      "Epoch 6/10\n",
      "13440/13440 [==============================] - 2s 180us/sample - loss: 1.3271 - accuracy: 0.9060 - val_loss: 1.4377 - val_accuracy: 0.7610\n",
      "Epoch 7/10\n",
      "13440/13440 [==============================] - 2s 181us/sample - loss: 1.2382 - accuracy: 0.9099 - val_loss: 1.3765 - val_accuracy: 0.7634\n",
      "Epoch 8/10\n",
      "13440/13440 [==============================] - 2s 180us/sample - loss: 1.1570 - accuracy: 0.9132 - val_loss: 1.3208 - val_accuracy: 0.7634\n",
      "Epoch 9/10\n",
      "13440/13440 [==============================] - 2s 180us/sample - loss: 1.0828 - accuracy: 0.9150 - val_loss: 1.2704 - val_accuracy: 0.7619\n",
      "Epoch 10/10\n",
      "13440/13440 [==============================] - 2s 177us/sample - loss: 1.0151 - accuracy: 0.9179 - val_loss: 1.2246 - val_accuracy: 0.7649\n",
      "Train on 13440 samples, validate on 3360 samples\n",
      "Epoch 1/10\n",
      "13440/13440 [==============================] - 3s 241us/sample - loss: 1.8971 - accuracy: 0.5859 - val_loss: 1.8463 - val_accuracy: 0.7113\n",
      "Epoch 2/10\n",
      "13440/13440 [==============================] - 3s 200us/sample - loss: 1.7675 - accuracy: 0.8475 - val_loss: 1.7517 - val_accuracy: 0.7378\n",
      "Epoch 3/10\n",
      "13440/13440 [==============================] - 3s 191us/sample - loss: 1.6440 - accuracy: 0.8849 - val_loss: 1.6642 - val_accuracy: 0.7455\n",
      "Epoch 4/10\n",
      "13440/13440 [==============================] - 2s 184us/sample - loss: 1.5291 - accuracy: 0.8943 - val_loss: 1.5839 - val_accuracy: 0.7446\n",
      "Epoch 5/10\n",
      "13440/13440 [==============================] - 3s 190us/sample - loss: 1.4230 - accuracy: 0.9034 - val_loss: 1.5106 - val_accuracy: 0.7482\n",
      "Epoch 6/10\n",
      "13440/13440 [==============================] - 3s 203us/sample - loss: 1.3256 - accuracy: 0.9077 - val_loss: 1.4436 - val_accuracy: 0.7497\n",
      "Epoch 7/10\n",
      "13440/13440 [==============================] - 2s 185us/sample - loss: 1.2365 - accuracy: 0.9103 - val_loss: 1.3828 - val_accuracy: 0.7524\n",
      "Epoch 8/10\n",
      "13440/13440 [==============================] - 2s 183us/sample - loss: 1.1551 - accuracy: 0.9144 - val_loss: 1.3279 - val_accuracy: 0.7551\n",
      "Epoch 9/10\n",
      "13440/13440 [==============================] - 2s 178us/sample - loss: 1.0809 - accuracy: 0.9158 - val_loss: 1.2777 - val_accuracy: 0.7542\n",
      "Epoch 10/10\n",
      "13440/13440 [==============================] - 2s 181us/sample - loss: 1.0131 - accuracy: 0.9187 - val_loss: 1.2323 - val_accuracy: 0.7548\n",
      "Train on 13440 samples, validate on 3360 samples\n",
      "Epoch 1/10\n",
      "13440/13440 [==============================] - 3s 214us/sample - loss: 1.8971 - accuracy: 0.5907 - val_loss: 1.8465 - val_accuracy: 0.7158\n",
      "Epoch 2/10\n",
      "13440/13440 [==============================] - 2s 185us/sample - loss: 1.7672 - accuracy: 0.8531 - val_loss: 1.7521 - val_accuracy: 0.7339\n",
      "Epoch 3/10\n",
      "13440/13440 [==============================] - 2s 182us/sample - loss: 1.6436 - accuracy: 0.8815 - val_loss: 1.6648 - val_accuracy: 0.7408\n",
      "Epoch 4/10\n",
      "13440/13440 [==============================] - 3s 186us/sample - loss: 1.5286 - accuracy: 0.8934 - val_loss: 1.5844 - val_accuracy: 0.7446\n",
      "Epoch 5/10\n",
      "13440/13440 [==============================] - 3s 204us/sample - loss: 1.4226 - accuracy: 0.8987 - val_loss: 1.5112 - val_accuracy: 0.7470\n",
      "Epoch 6/10\n",
      "13440/13440 [==============================] - 2s 183us/sample - loss: 1.3253 - accuracy: 0.9041 - val_loss: 1.4445 - val_accuracy: 0.7473\n",
      "Epoch 7/10\n",
      "13440/13440 [==============================] - 2s 178us/sample - loss: 1.2362 - accuracy: 0.9060 - val_loss: 1.3838 - val_accuracy: 0.7494\n",
      "Epoch 8/10\n",
      "13440/13440 [==============================] - 2s 178us/sample - loss: 1.1550 - accuracy: 0.9110 - val_loss: 1.3288 - val_accuracy: 0.7485\n",
      "Epoch 9/10\n",
      "13440/13440 [==============================] - 2s 179us/sample - loss: 1.0808 - accuracy: 0.9138 - val_loss: 1.2787 - val_accuracy: 0.7500\n",
      "Epoch 10/10\n",
      "13440/13440 [==============================] - 2s 176us/sample - loss: 1.0131 - accuracy: 0.9173 - val_loss: 1.2333 - val_accuracy: 0.7494\n"
     ]
    }
   ],
   "source": [
    "# Train the neural network on the training data\n",
    "models, histories = train_model(X, y_onehot, num_classes)"
   ]
  },
  {
   "cell_type": "code",
   "execution_count": 10,
   "metadata": {},
   "outputs": [
    {
     "data": {
      "image/png": "[encoded data removed]",
      "text/plain": [
       "<Figure size 640x480 with 1 Axes>"
      ]
     },
     "metadata": {},
     "output_type": "display_data"
    }
   ],
   "source": [
    "# Plot the training loss over epochs for all folds\n",
    "for fold, history in enumerate(histories):\n",
    "    plt.plot(history.history['loss'], label=f\"Fold {fold + 1}\")\n",
    "plt.title('Training Loss')\n",
    "plt.xlabel('Epoch')\n",
    "plt.ylabel('Loss')\n",
    "plt.legend()\n",
    "plt.show()"
   ]
  },
  {
   "cell_type": "code",
   "execution_count": 11,
   "metadata": {},
   "outputs": [
    {
     "name": "stdout",
     "output_type": "stream",
     "text": [
      "4200/4200 [==============================] - 1s 338us/sample - loss: 1.2250 - accuracy: 0.7583\n",
      "4200/4200 [==============================] - 1s 196us/sample - loss: 1.2251 - accuracy: 0.7545\n",
      "4200/4200 [==============================] - 1s 146us/sample - loss: 1.2252 - accuracy: 0.7543\n",
      "4200/4200 [==============================] - 3s 697us/sample - loss: 1.2245 - accuracy: 0.7588\n",
      "4200/4200 [==============================] - 1s 170us/sample - loss: 1.2238 - accuracy: 0.7586\n",
      "Test loss: 1.224737948054359\n",
      "Test accuracy: 0.7569047570228576\n"
     ]
    }
   ],
   "source": [
    "loss_avg = []\n",
    "acc_avg = []\n",
    "X_val = X_val_sparse.toarray()\n",
    "y_onehot_val = keras.utils.to_categorical(y_val, num_classes)\n",
    "for model in models: # Evaluate the model on the testing data\n",
    "    loss, accuracy = model.evaluate(X_val, y_onehot_val)\n",
    "    loss_avg.append(loss)\n",
    "    acc_avg.append(accuracy)\n",
    "    \n",
    "print('Test loss:', sum(loss_avg)/len(loss_avg))\n",
    "print('Test accuracy:', sum(acc_avg)/len(acc_avg))"
   ]
  }
 ],
 "metadata": {
  "kernelspec": {
   "display_name": "Python 3 (ipykernel)",
   "language": "python",
   "name": "python3"
  },
  "language_info": {
   "codemirror_mode": {
    "name": "ipython",
    "version": 3
   },
   "file_extension": ".py",
   "mimetype": "text/x-python",
   "name": "python",
   "nbconvert_exporter": "python",
   "pygments_lexer": "ipython3",
   "version": "3.7.4"
  }
 },
 "nbformat": 4,
 "nbformat_minor": 2
}
